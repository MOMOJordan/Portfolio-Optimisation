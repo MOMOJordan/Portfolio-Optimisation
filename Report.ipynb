{
 "cells": [
  {
   "cell_type": "code",
   "execution_count": 3,
   "id": "initial_id",
   "metadata": {
    "collapsed": true,
    "ExecuteTime": {
     "end_time": "2025-09-16T21:06:30.806682Z",
     "start_time": "2025-09-16T21:06:29.489358Z"
    }
   },
   "outputs": [],
   "source": [
    "import pandas as pd\n",
    "import numpy as np\n",
    "import matplotlib.pyplot as plt"
   ]
  },
  {
   "cell_type": "code",
   "execution_count": 4,
   "outputs": [],
   "source": [
    "data = pd.read_csv(fr\"/Users/jordan/Documents/BarclaysStage/portfolio_analysis/positions.csv\",index_col=0)"
   ],
   "metadata": {
    "collapsed": false,
    "ExecuteTime": {
     "end_time": "2025-09-16T21:06:55.829548Z",
     "start_time": "2025-09-16T21:06:55.773284Z"
    }
   },
   "id": "1374622b3caef7fd"
  },
  {
   "cell_type": "code",
   "execution_count": 5,
   "outputs": [
    {
     "data": {
      "text/plain": "                 name ticker country currency                  sector  \\\nstock_id                                                                \n1            equity_1    AGI     DEU      EUR  Information Technology   \n2            equity_2    PWH     RUS      USD        Consumer Staples   \n3            equity_3    NDE     DEU      USD             Industrials   \n4            equity_4    ABB     USA      USD              Financials   \n5            equity_5    WRF     RUS      USD               Utilities   \n...               ...    ...     ...      ...                     ...   \n2996      equity_2996    HSH     CAN      CAD  Information Technology   \n2997      equity_2997    QLG     BEL      EUR               Utilities   \n2998      equity_2998    YOV     DEU      USD               Utilities   \n2999      equity_2999    YFG     HKG      CNY  Consumer Discretionary   \n3000      equity_3000    TEG     USA      CAD             Industrials   \n\n                                 industry  \\\nstock_id                                    \n1                     Software & Services   \n2                 Food Beverage & Tobacco   \n3                           Capital Goods   \n4                               Insurance   \n5                               Utilities   \n...                                   ...   \n2996      Technology Hardware & Equipment   \n2997                            Utilities   \n2998                            Utilities   \n2999                            Retailing   \n3000       Commercial Services & Supplies   \n\n                                  sub_industry      beta  avg_daily_volume  \\\nstock_id                                                                     \n1                             Systems Software  1.735624             10043   \n2                          Meat Poultry & Fish  0.675354            640830   \n3                   Heavy Electrical Equipment  0.699394             36094   \n4                                  Reinsurance  2.215079         135786553   \n5                           Electric Utilities  1.259133             26094   \n...                                        ...       ...               ...   \n2996         Electronic Manufacturing Services  1.723244              3193   \n2997                             Gas Utilities  0.977303         291651784   \n2998                             Gas Utilities  1.186587              1955   \n2999                           Internet Retail  0.799109          11685566   \n3000      Human Resource & Employment Services  1.879576            139458   \n\n           side  posn_shares  cost_basis_local  market_price_local  \nstock_id                                                            \n1         SHORT        -4810            145.19              147.06  \n2          LONG        38342            112.48              100.28  \n3         SHORT       -19881             43.36               41.56  \n4         SHORT      -100194             24.79               26.38  \n5          LONG         3963            149.90              149.53  \n...         ...          ...               ...                 ...  \n2996      SHORT         -232            238.13              249.60  \n2997       LONG        77866             11.07               10.13  \n2998       LONG         3743            141.71              160.19  \n2999       LONG        49551            225.50              235.19  \n3000       LONG         2413            172.00              194.58  \n\n[3000 rows x 13 columns]",
      "text/html": "<div>\n<style scoped>\n    .dataframe tbody tr th:only-of-type {\n        vertical-align: middle;\n    }\n\n    .dataframe tbody tr th {\n        vertical-align: top;\n    }\n\n    .dataframe thead th {\n        text-align: right;\n    }\n</style>\n<table border=\"1\" class=\"dataframe\">\n  <thead>\n    <tr style=\"text-align: right;\">\n      <th></th>\n      <th>name</th>\n      <th>ticker</th>\n      <th>country</th>\n      <th>currency</th>\n      <th>sector</th>\n      <th>industry</th>\n      <th>sub_industry</th>\n      <th>beta</th>\n      <th>avg_daily_volume</th>\n      <th>side</th>\n      <th>posn_shares</th>\n      <th>cost_basis_local</th>\n      <th>market_price_local</th>\n    </tr>\n    <tr>\n      <th>stock_id</th>\n      <th></th>\n      <th></th>\n      <th></th>\n      <th></th>\n      <th></th>\n      <th></th>\n      <th></th>\n      <th></th>\n      <th></th>\n      <th></th>\n      <th></th>\n      <th></th>\n      <th></th>\n    </tr>\n  </thead>\n  <tbody>\n    <tr>\n      <th>1</th>\n      <td>equity_1</td>\n      <td>AGI</td>\n      <td>DEU</td>\n      <td>EUR</td>\n      <td>Information Technology</td>\n      <td>Software &amp; Services</td>\n      <td>Systems Software</td>\n      <td>1.735624</td>\n      <td>10043</td>\n      <td>SHORT</td>\n      <td>-4810</td>\n      <td>145.19</td>\n      <td>147.06</td>\n    </tr>\n    <tr>\n      <th>2</th>\n      <td>equity_2</td>\n      <td>PWH</td>\n      <td>RUS</td>\n      <td>USD</td>\n      <td>Consumer Staples</td>\n      <td>Food Beverage &amp; Tobacco</td>\n      <td>Meat Poultry &amp; Fish</td>\n      <td>0.675354</td>\n      <td>640830</td>\n      <td>LONG</td>\n      <td>38342</td>\n      <td>112.48</td>\n      <td>100.28</td>\n    </tr>\n    <tr>\n      <th>3</th>\n      <td>equity_3</td>\n      <td>NDE</td>\n      <td>DEU</td>\n      <td>USD</td>\n      <td>Industrials</td>\n      <td>Capital Goods</td>\n      <td>Heavy Electrical Equipment</td>\n      <td>0.699394</td>\n      <td>36094</td>\n      <td>SHORT</td>\n      <td>-19881</td>\n      <td>43.36</td>\n      <td>41.56</td>\n    </tr>\n    <tr>\n      <th>4</th>\n      <td>equity_4</td>\n      <td>ABB</td>\n      <td>USA</td>\n      <td>USD</td>\n      <td>Financials</td>\n      <td>Insurance</td>\n      <td>Reinsurance</td>\n      <td>2.215079</td>\n      <td>135786553</td>\n      <td>SHORT</td>\n      <td>-100194</td>\n      <td>24.79</td>\n      <td>26.38</td>\n    </tr>\n    <tr>\n      <th>5</th>\n      <td>equity_5</td>\n      <td>WRF</td>\n      <td>RUS</td>\n      <td>USD</td>\n      <td>Utilities</td>\n      <td>Utilities</td>\n      <td>Electric Utilities</td>\n      <td>1.259133</td>\n      <td>26094</td>\n      <td>LONG</td>\n      <td>3963</td>\n      <td>149.90</td>\n      <td>149.53</td>\n    </tr>\n    <tr>\n      <th>...</th>\n      <td>...</td>\n      <td>...</td>\n      <td>...</td>\n      <td>...</td>\n      <td>...</td>\n      <td>...</td>\n      <td>...</td>\n      <td>...</td>\n      <td>...</td>\n      <td>...</td>\n      <td>...</td>\n      <td>...</td>\n      <td>...</td>\n    </tr>\n    <tr>\n      <th>2996</th>\n      <td>equity_2996</td>\n      <td>HSH</td>\n      <td>CAN</td>\n      <td>CAD</td>\n      <td>Information Technology</td>\n      <td>Technology Hardware &amp; Equipment</td>\n      <td>Electronic Manufacturing Services</td>\n      <td>1.723244</td>\n      <td>3193</td>\n      <td>SHORT</td>\n      <td>-232</td>\n      <td>238.13</td>\n      <td>249.60</td>\n    </tr>\n    <tr>\n      <th>2997</th>\n      <td>equity_2997</td>\n      <td>QLG</td>\n      <td>BEL</td>\n      <td>EUR</td>\n      <td>Utilities</td>\n      <td>Utilities</td>\n      <td>Gas Utilities</td>\n      <td>0.977303</td>\n      <td>291651784</td>\n      <td>LONG</td>\n      <td>77866</td>\n      <td>11.07</td>\n      <td>10.13</td>\n    </tr>\n    <tr>\n      <th>2998</th>\n      <td>equity_2998</td>\n      <td>YOV</td>\n      <td>DEU</td>\n      <td>USD</td>\n      <td>Utilities</td>\n      <td>Utilities</td>\n      <td>Gas Utilities</td>\n      <td>1.186587</td>\n      <td>1955</td>\n      <td>LONG</td>\n      <td>3743</td>\n      <td>141.71</td>\n      <td>160.19</td>\n    </tr>\n    <tr>\n      <th>2999</th>\n      <td>equity_2999</td>\n      <td>YFG</td>\n      <td>HKG</td>\n      <td>CNY</td>\n      <td>Consumer Discretionary</td>\n      <td>Retailing</td>\n      <td>Internet Retail</td>\n      <td>0.799109</td>\n      <td>11685566</td>\n      <td>LONG</td>\n      <td>49551</td>\n      <td>225.50</td>\n      <td>235.19</td>\n    </tr>\n    <tr>\n      <th>3000</th>\n      <td>equity_3000</td>\n      <td>TEG</td>\n      <td>USA</td>\n      <td>CAD</td>\n      <td>Industrials</td>\n      <td>Commercial Services &amp; Supplies</td>\n      <td>Human Resource &amp; Employment Services</td>\n      <td>1.879576</td>\n      <td>139458</td>\n      <td>LONG</td>\n      <td>2413</td>\n      <td>172.00</td>\n      <td>194.58</td>\n    </tr>\n  </tbody>\n</table>\n<p>3000 rows × 13 columns</p>\n</div>"
     },
     "execution_count": 5,
     "metadata": {},
     "output_type": "execute_result"
    }
   ],
   "source": [
    "data"
   ],
   "metadata": {
    "collapsed": false,
    "ExecuteTime": {
     "end_time": "2025-09-16T21:07:01.104629Z",
     "start_time": "2025-09-16T21:07:01.060101Z"
    }
   },
   "id": "9055d3ef0db27766"
  },
  {
   "cell_type": "code",
   "execution_count": 21,
   "outputs": [
    {
     "data": {
      "text/plain": "Index(['name', 'ticker', 'country', 'currency', 'sector', 'industry',\n       'sub_industry', 'beta', 'avg_daily_volume', 'side', 'posn_shares',\n       'cost_basis_local', 'market_price_local'],\n      dtype='object')"
     },
     "execution_count": 21,
     "metadata": {},
     "output_type": "execute_result"
    }
   ],
   "source": [
    "data.columns"
   ],
   "metadata": {
    "collapsed": false,
    "ExecuteTime": {
     "end_time": "2025-09-16T21:23:03.193869Z",
     "start_time": "2025-09-16T21:23:03.165546Z"
    }
   },
   "id": "922c292ba5a096ce"
  },
  {
   "cell_type": "code",
   "execution_count": 18,
   "outputs": [],
   "source": [
    "summary = pd.DataFrame({\n",
    "        \"dtype\": data.dtypes,\n",
    "        \"missing\": data.isnull().sum(),\n",
    "    })\n",
    "desc_data = summary.join(data.describe(include=\"all\").T, how=\"left\")"
   ],
   "metadata": {
    "collapsed": false,
    "ExecuteTime": {
     "end_time": "2025-09-16T21:13:48.632996Z",
     "start_time": "2025-09-16T21:13:48.603598Z"
    }
   },
   "id": "936a1f7a279a198b"
  },
  {
   "cell_type": "code",
   "execution_count": 19,
   "outputs": [
    {
     "data": {
      "text/plain": "                      dtype  missing   count unique                     top  \\\nname                 object        0    3000   3000                equity_1   \nticker               object        0    3000   3000                     AGI   \ncountry              object        0    3000     18                     HKG   \ncurrency             object        2    2998     10                     EUR   \nsector               object        0    3000     10  Consumer Discretionary   \nindustry             object        0    3000     24               Materials   \nsub_industry         object        0    3000    165        Consumer Finance   \nbeta                float64        0  3000.0    NaN                     NaN   \navg_daily_volume      int64        0  3000.0    NaN                     NaN   \nside                 object        0    3000      2                   SHORT   \nposn_shares           int64        0  3000.0    NaN                     NaN   \ncost_basis_local    float64        0  3000.0    NaN                     NaN   \nmarket_price_local  float64        0  3000.0    NaN                     NaN   \n\n                    freq             mean               std       min  \\\nname                   1              NaN               NaN       NaN   \nticker                 1              NaN               NaN       NaN   \ncountry              294              NaN               NaN       NaN   \ncurrency            1082              NaN               NaN       NaN   \nsector               655              NaN               NaN       NaN   \nindustry             293              NaN               NaN       NaN   \nsub_industry          37              NaN               NaN       NaN   \nbeta                 NaN         1.247901          0.689492  0.110735   \navg_daily_volume     NaN  34939573.259333  234277134.632115       0.0   \nside                1532              NaN               NaN       NaN   \nposn_shares          NaN      -703.228667      54228.415888 -826100.0   \ncost_basis_local     NaN       658.214177       2488.112915      4.49   \nmarket_price_local   NaN        659.47101       2493.669087      4.53   \n\n                         25%       50%        75%           max  \nname                     NaN       NaN        NaN           NaN  \nticker                   NaN       NaN        NaN           NaN  \ncountry                  NaN       NaN        NaN           NaN  \ncurrency                 NaN       NaN        NaN           NaN  \nsector                   NaN       NaN        NaN           NaN  \nindustry                 NaN       NaN        NaN           NaN  \nsub_industry             NaN       NaN        NaN           NaN  \nbeta                0.750708  1.065386   1.547872      7.205475  \navg_daily_volume    11355.25  122590.5  3320203.5  7626954068.0  \nside                     NaN       NaN        NaN           NaN  \nposn_shares          -6643.0    -151.5     6520.0      574215.0  \ncost_basis_local     61.0175    121.95   187.2175      21483.39  \nmarket_price_local   61.7975    121.91    187.265      20153.04  ",
      "text/html": "<div>\n<style scoped>\n    .dataframe tbody tr th:only-of-type {\n        vertical-align: middle;\n    }\n\n    .dataframe tbody tr th {\n        vertical-align: top;\n    }\n\n    .dataframe thead th {\n        text-align: right;\n    }\n</style>\n<table border=\"1\" class=\"dataframe\">\n  <thead>\n    <tr style=\"text-align: right;\">\n      <th></th>\n      <th>dtype</th>\n      <th>missing</th>\n      <th>count</th>\n      <th>unique</th>\n      <th>top</th>\n      <th>freq</th>\n      <th>mean</th>\n      <th>std</th>\n      <th>min</th>\n      <th>25%</th>\n      <th>50%</th>\n      <th>75%</th>\n      <th>max</th>\n    </tr>\n  </thead>\n  <tbody>\n    <tr>\n      <th>name</th>\n      <td>object</td>\n      <td>0</td>\n      <td>3000</td>\n      <td>3000</td>\n      <td>equity_1</td>\n      <td>1</td>\n      <td>NaN</td>\n      <td>NaN</td>\n      <td>NaN</td>\n      <td>NaN</td>\n      <td>NaN</td>\n      <td>NaN</td>\n      <td>NaN</td>\n    </tr>\n    <tr>\n      <th>ticker</th>\n      <td>object</td>\n      <td>0</td>\n      <td>3000</td>\n      <td>3000</td>\n      <td>AGI</td>\n      <td>1</td>\n      <td>NaN</td>\n      <td>NaN</td>\n      <td>NaN</td>\n      <td>NaN</td>\n      <td>NaN</td>\n      <td>NaN</td>\n      <td>NaN</td>\n    </tr>\n    <tr>\n      <th>country</th>\n      <td>object</td>\n      <td>0</td>\n      <td>3000</td>\n      <td>18</td>\n      <td>HKG</td>\n      <td>294</td>\n      <td>NaN</td>\n      <td>NaN</td>\n      <td>NaN</td>\n      <td>NaN</td>\n      <td>NaN</td>\n      <td>NaN</td>\n      <td>NaN</td>\n    </tr>\n    <tr>\n      <th>currency</th>\n      <td>object</td>\n      <td>2</td>\n      <td>2998</td>\n      <td>10</td>\n      <td>EUR</td>\n      <td>1082</td>\n      <td>NaN</td>\n      <td>NaN</td>\n      <td>NaN</td>\n      <td>NaN</td>\n      <td>NaN</td>\n      <td>NaN</td>\n      <td>NaN</td>\n    </tr>\n    <tr>\n      <th>sector</th>\n      <td>object</td>\n      <td>0</td>\n      <td>3000</td>\n      <td>10</td>\n      <td>Consumer Discretionary</td>\n      <td>655</td>\n      <td>NaN</td>\n      <td>NaN</td>\n      <td>NaN</td>\n      <td>NaN</td>\n      <td>NaN</td>\n      <td>NaN</td>\n      <td>NaN</td>\n    </tr>\n    <tr>\n      <th>industry</th>\n      <td>object</td>\n      <td>0</td>\n      <td>3000</td>\n      <td>24</td>\n      <td>Materials</td>\n      <td>293</td>\n      <td>NaN</td>\n      <td>NaN</td>\n      <td>NaN</td>\n      <td>NaN</td>\n      <td>NaN</td>\n      <td>NaN</td>\n      <td>NaN</td>\n    </tr>\n    <tr>\n      <th>sub_industry</th>\n      <td>object</td>\n      <td>0</td>\n      <td>3000</td>\n      <td>165</td>\n      <td>Consumer Finance</td>\n      <td>37</td>\n      <td>NaN</td>\n      <td>NaN</td>\n      <td>NaN</td>\n      <td>NaN</td>\n      <td>NaN</td>\n      <td>NaN</td>\n      <td>NaN</td>\n    </tr>\n    <tr>\n      <th>beta</th>\n      <td>float64</td>\n      <td>0</td>\n      <td>3000.0</td>\n      <td>NaN</td>\n      <td>NaN</td>\n      <td>NaN</td>\n      <td>1.247901</td>\n      <td>0.689492</td>\n      <td>0.110735</td>\n      <td>0.750708</td>\n      <td>1.065386</td>\n      <td>1.547872</td>\n      <td>7.205475</td>\n    </tr>\n    <tr>\n      <th>avg_daily_volume</th>\n      <td>int64</td>\n      <td>0</td>\n      <td>3000.0</td>\n      <td>NaN</td>\n      <td>NaN</td>\n      <td>NaN</td>\n      <td>34939573.259333</td>\n      <td>234277134.632115</td>\n      <td>0.0</td>\n      <td>11355.25</td>\n      <td>122590.5</td>\n      <td>3320203.5</td>\n      <td>7626954068.0</td>\n    </tr>\n    <tr>\n      <th>side</th>\n      <td>object</td>\n      <td>0</td>\n      <td>3000</td>\n      <td>2</td>\n      <td>SHORT</td>\n      <td>1532</td>\n      <td>NaN</td>\n      <td>NaN</td>\n      <td>NaN</td>\n      <td>NaN</td>\n      <td>NaN</td>\n      <td>NaN</td>\n      <td>NaN</td>\n    </tr>\n    <tr>\n      <th>posn_shares</th>\n      <td>int64</td>\n      <td>0</td>\n      <td>3000.0</td>\n      <td>NaN</td>\n      <td>NaN</td>\n      <td>NaN</td>\n      <td>-703.228667</td>\n      <td>54228.415888</td>\n      <td>-826100.0</td>\n      <td>-6643.0</td>\n      <td>-151.5</td>\n      <td>6520.0</td>\n      <td>574215.0</td>\n    </tr>\n    <tr>\n      <th>cost_basis_local</th>\n      <td>float64</td>\n      <td>0</td>\n      <td>3000.0</td>\n      <td>NaN</td>\n      <td>NaN</td>\n      <td>NaN</td>\n      <td>658.214177</td>\n      <td>2488.112915</td>\n      <td>4.49</td>\n      <td>61.0175</td>\n      <td>121.95</td>\n      <td>187.2175</td>\n      <td>21483.39</td>\n    </tr>\n    <tr>\n      <th>market_price_local</th>\n      <td>float64</td>\n      <td>0</td>\n      <td>3000.0</td>\n      <td>NaN</td>\n      <td>NaN</td>\n      <td>NaN</td>\n      <td>659.47101</td>\n      <td>2493.669087</td>\n      <td>4.53</td>\n      <td>61.7975</td>\n      <td>121.91</td>\n      <td>187.265</td>\n      <td>20153.04</td>\n    </tr>\n  </tbody>\n</table>\n</div>"
     },
     "execution_count": 19,
     "metadata": {},
     "output_type": "execute_result"
    }
   ],
   "source": [
    "desc_data"
   ],
   "metadata": {
    "collapsed": false,
    "ExecuteTime": {
     "end_time": "2025-09-16T21:13:49.219854Z",
     "start_time": "2025-09-16T21:13:49.196786Z"
    }
   },
   "id": "5251ff3733ee8189"
  },
  {
   "cell_type": "code",
   "execution_count": 22,
   "outputs": [],
   "source": [
    "def enrich_data(data,fx_map):\n",
    "    df = data.copy()\n",
    "    \n",
    "    df[\"fx_to_base\"] = df[\"currency\"].map(fx_map).fillna(1.0)\n",
    "    \n",
    "    df[\"notional_local\"] = df[\"posn_shares\"] * df[\"price\"]\n",
    "    df[\"notional_base\"] = df[\"notional_local\"]*df[\"fx_to_base\"]\n",
    "    df[\"abs_notional_base\"]=df[\"notional_base\"].abs()\n",
    "    \n",
    "    df[\"beta_notional\"] = df[\"beta\"] * df[\"notional_base\"] \n",
    "    \n",
    "    df[\"pct_adv\"] = np.where(df[\"avg_daily_volume\"] > 0, np.abs(df[\"posn_shares\"]) / df[\"avg_daily_volume\"], np.nan)\n",
    "    \n",
    "    df[\"unrealised_pnl_pct\"] = np.where(df[\"cost_basis_local\"] != 0, df[\"market_price_local\"] / df[\"cost_basis_local\"] - 1.0, np.nan)\n",
    "    \n",
    "    df[\"unrealised_pnl\"] = df[\"unrealised_pnl_pct\"] * df[\"notional_base\"]\n",
    "    \n",
    "    return df"
   ],
   "metadata": {
    "collapsed": false,
    "ExecuteTime": {
     "end_time": "2025-09-16T21:31:54.362675Z",
     "start_time": "2025-09-16T21:31:54.325264Z"
    }
   },
   "id": "ea10c2c52cc843db"
  },
  {
   "cell_type": "code",
   "execution_count": null,
   "outputs": [],
   "source": [
    "def compute_portfolio_metric(df):\n",
    "    \n",
    "    gross = float(df[\"abs_notional_base\"].sum())\n",
    "    net = float(df[\"notional_base\"].sum())\n",
    "    long_gross = float(df.loc[df[\"notional_base\"] > 0, \"notional_base\"].sum())\n",
    "    short_gross = float(df.loc[df[\"notional_base\"] < 0, \"notional_base\"].abs().sum())\n",
    "    long_pct = long_gross / gross\n",
    "    short_pct = short_gross / gross\n",
    "    net_beta = float(df[\"beta_notional\"].sum()) # autre nom\n",
    "    beta_drift = abs(net_beta) / gross # autre nom\n",
    "\n",
    "    # Liquidity share of gross in %ADV > 10%\n",
    "    liq_gross_share = float(df.loc[df[\"pct_adv\"] > 0.10, \"abs_notional_base\"].sum()) / gross\n",
    "\n",
    "    # Top-10 concentration\n",
    "    top10_weight = float(df[\"abs_notional_base\"].nlargest(10).sum()) / gross\n",
    "    \n",
    "    return dict(\n",
    "        gross=gross, net=net,\n",
    "        long_pct=long_pct, short_pct=short_pct,\n",
    "        net_beta=net_beta, beta_drift=beta_drift,\n",
    "        liq_gross_10pct=liq_gross_share,\n",
    "        top10_weight=top10_weight\n",
    "    )\n",
    "\n",
    "\n",
    "def group_summary(df, by):\n",
    "\n",
    "    total_gross = df[\"abs_notional_base\"].sum() or 1.0\n",
    "    data_group = (\n",
    "        df.groupby(by, dropna=False)\n",
    "        .agg(\n",
    "            net=(\"notional_base\", \"sum\"),\n",
    "            gross=(\"abs_notional_base\", \"sum\"),\n",
    "            beta_dollars=(\"beta_notional\", \"sum\"),\n",
    "            names=(\"ticker\", \"nunique\"),\n",
    "        )\n",
    "        .reset_index()\n",
    "    )\n",
    "    data_group[\"pct_gross\"] = data_group[\"gross\"] / total_gross\n",
    "    data_group = data_group.sort_values(\"pct_gross\", ascending=False)\n",
    "    return data_group\n",
    "\n",
    "\n",
    "def beta_buckets(df, edges = [-9, -0.5, 0, 0.5, 9]) :\n",
    "\n",
    "    # Bin betas; edges wide at ends to catch extremes\n",
    "    labels = [f\"[{edges[i]},{edges[i+1]})\" for i in range(len(edges)-1)]\n",
    "    data_bucket = df.copy()\n",
    "    data_bucket[\"beta_bin\"] = pd.cut(data_bucket[\"beta\"], bins=edges, labels=labels, include_lowest=True)\n",
    "    data_group = data_bucket.groupby(\"beta_bin\", dropna=False).agg(\n",
    "        gross=(\"abs_mv_base\", \"sum\"),\n",
    "        names=(\"ticker\", \"nunique\")\n",
    "    ).reset_index()\n",
    "    total_gross = df[\"abs_mv_base\"].sum() or 1.0\n",
    "    data_group[\"pct_gross\"] = data_group[\"gross\"] / total_gross\n",
    "    \n",
    "    return data_group.sort_values(\"pct_gross\", ascending=False)"
   ],
   "metadata": {
    "collapsed": false
   },
   "id": "4b433d636739ca44"
  }
 ],
 "metadata": {
  "kernelspec": {
   "display_name": "Python 3",
   "language": "python",
   "name": "python3"
  },
  "language_info": {
   "codemirror_mode": {
    "name": "ipython",
    "version": 2
   },
   "file_extension": ".py",
   "mimetype": "text/x-python",
   "name": "python",
   "nbconvert_exporter": "python",
   "pygments_lexer": "ipython2",
   "version": "2.7.6"
  }
 },
 "nbformat": 4,
 "nbformat_minor": 5
}
